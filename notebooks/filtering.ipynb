{
 "cells": [
  {
   "cell_type": "markdown",
   "metadata": {},
   "source": [
    "# 1. Import modules"
   ]
  },
  {
   "cell_type": "code",
   "execution_count": 1,
   "metadata": {},
   "outputs": [],
   "source": [
    "import numpy as np\n",
    "import pandas as pd\n",
    "import seaborn as sns\n",
    "import geopandas as gpd\n",
    "import matplotlib.pyplot as plt\n",
    "import matplotlib_inline.backend_inline\n",
    "matplotlib_inline.backend_inline.set_matplotlib_formats(\"retina\")\n",
    "plt.rcParams[\"figure.facecolor\"] = \"white\""
   ]
  },
  {
   "cell_type": "markdown",
   "metadata": {},
   "source": [
    "# 2. Load dataset"
   ]
  },
  {
   "cell_type": "code",
   "execution_count": 2,
   "metadata": {},
   "outputs": [],
   "source": [
    "home_dir = \"$HOME\"\n",
    "local_dir = f\"{home_dir}/Documents/github/CIV1498/projects/project2\"\n",
    "github_dir = f\"{home_dir}/Documents/github/CIV1498-Project2\"\n",
    "\n",
    "# df_LA_parcels = pd.read_csv(f\"{local_dir}/Assessor_Parcels_Data_-_2006_thru_2021.csv\")\n",
    "# df_LA_parcels_columns = pd.Series(df_LA_parcels.columns.to_list())\n",
    "# df_LA_parcels_columns.to_pickle(f\"{local_dir}/df_LA_parcels_columns.pkl\")"
   ]
  },
  {
   "cell_type": "markdown",
   "metadata": {},
   "source": [
    "## 2.1. See available columns in the dataset"
   ]
  },
  {
   "cell_type": "code",
   "execution_count": 3,
   "metadata": {},
   "outputs": [
    {
     "data": {
      "text/plain": [
       "0                         ZIPcode\n",
       "1                TaxRateArea_CITY\n",
       "2                             AIN\n",
       "3                        RollYear\n",
       "4                     TaxRateArea\n",
       "5                      AssessorID\n",
       "6                PropertyLocation\n",
       "7                    PropertyType\n",
       "8                 PropertyUseCode\n",
       "9                  GeneralUseType\n",
       "10                SpecificUseType\n",
       "11             SpecificUseDetail1\n",
       "12             SpecificUseDetail2\n",
       "13           totBuildingDataLines\n",
       "14                      YearBuilt\n",
       "15             EffectiveYearBuilt\n",
       "16                       SQFTmain\n",
       "17                       Bedrooms\n",
       "18                      Bathrooms\n",
       "19                          Units\n",
       "20                  RecordingDate\n",
       "21                      LandValue\n",
       "22                   LandBaseYear\n",
       "23               ImprovementValue\n",
       "24                    ImpBaseYear\n",
       "25              TotalLandImpValue\n",
       "26            HomeownersExemption\n",
       "27            RealEstateExemption\n",
       "28                   FixtureValue\n",
       "29               FixtureExemption\n",
       "30          PersonalPropertyValue\n",
       "31      PersonalPropertyExemption\n",
       "32               isTaxableParcel?\n",
       "33                     TotalValue\n",
       "34                 TotalExemption\n",
       "35                netTaxableValue\n",
       "36    SpecialParcelClassification\n",
       "37           AdministrativeRegion\n",
       "38                        Cluster\n",
       "39      ParcelBoundaryDescription\n",
       "40                        HouseNo\n",
       "41                  HouseFraction\n",
       "42                StreetDirection\n",
       "43                     StreetName\n",
       "44                         UnitNo\n",
       "45                           City\n",
       "46                       ZIPcode5\n",
       "47                          rowID\n",
       "48                     CENTER_LAT\n",
       "49                     CENTER_LON\n",
       "50                     Location 1\n",
       "dtype: object"
      ]
     },
     "execution_count": 3,
     "metadata": {},
     "output_type": "execute_result"
    }
   ],
   "source": [
    "df_LA_parcels_columns = pd.read_pickle(f\"{local_dir}/dataframe/df_LA_parcels_columns.pkl\")\n",
    "df_LA_parcels_columns"
   ]
  },
  {
   "cell_type": "markdown",
   "metadata": {},
   "source": [
    "## 2.2. Filter \"Residential\" parcels only"
   ]
  },
  {
   "cell_type": "code",
   "execution_count": 4,
   "metadata": {},
   "outputs": [],
   "source": [
    "df_LA_parcels_GeneralUseType = pd.read_pickle(f\"{local_dir}/dataframe/df_LA_parcels_GeneralUseType.pkl\")\n",
    "Residential_index = df_LA_parcels_GeneralUseType[df_LA_parcels_GeneralUseType['GeneralUseType'] == 'Residential'].index\n",
    "Residential_index.to_series().to_pickle(f\"{local_dir}/index/Residential_index.pkl\")"
   ]
  },
  {
   "cell_type": "markdown",
   "metadata": {},
   "source": [
    "## 2.3. Filter \"Single Family Residence (SFR)\" parcels only"
   ]
  },
  {
   "cell_type": "code",
   "execution_count": 5,
   "metadata": {},
   "outputs": [],
   "source": [
    "# df_LA_parcels_PropertyType = pd.read_pickle(f\"{local_dir}/dataframe/df_LA_parcels_PropertyType.pkl\")\n",
    "# df_LA_parcels_SpecificUseType = pd.read_pickle(f\"{local_dir}/dataframe/df_LA_parcels_SpecificUseType.pkl\").loc[Residential_index]\n",
    "# Residential_SFR_index = df_LA_parcels_SpecificUseType[df_LA_parcels_SpecificUseType['SpecificUseType'] == 'Single Family Residence'].index\n",
    "\n",
    "df_LA_parcels_PropertyType = pd.read_pickle(f\"{local_dir}/dataframe/df_LA_parcels_PropertyType.pkl\").loc[Residential_index]\n",
    "Residential_SFR_index = df_LA_parcels_PropertyType[df_LA_parcels_PropertyType['PropertyType'] == 'SFR'].index\n",
    "Residential_SFR_index.to_series().to_pickle(f\"{local_dir}/index/Residential_SFR_index.pkl\")"
   ]
  },
  {
   "cell_type": "markdown",
   "metadata": {},
   "source": [
    "## 2.4. Filter \"Unit == 1\" parcels only"
   ]
  },
  {
   "cell_type": "code",
   "execution_count": 6,
   "metadata": {},
   "outputs": [],
   "source": [
    "df_LA_parcels_Units = pd.read_pickle(f\"{local_dir}/dataframe/df_LA_parcels_Units.pkl\").loc[Residential_SFR_index].astype(int)\n",
    "Residential_SFR_Unit1_index = df_LA_parcels_Units[df_LA_parcels_Units['Units'] == 1].index\n",
    "Residential_SFR_Unit1_index.to_series().to_pickle(f\"{local_dir}/index/Residential_SFR_Unit1_index.pkl\")"
   ]
  },
  {
   "cell_type": "markdown",
   "metadata": {},
   "source": [
    "## 2.7. Get rid of parcels if \"totBuildingDataLines != 1\""
   ]
  },
  {
   "cell_type": "code",
   "execution_count": 7,
   "metadata": {},
   "outputs": [],
   "source": [
    "df_LA_parcels_totBuildingDataLines = pd.read_pickle(f\"{local_dir}/dataframe/df_LA_parcels_totBuildingDataLines.pkl\").loc[Residential_SFR_Unit1_index]\n",
    "Residential_SFR_Unit1_1Building_index = df_LA_parcels_totBuildingDataLines[df_LA_parcels_totBuildingDataLines['totBuildingDataLines'] == 1].index\n",
    "Residential_SFR_Unit1_1Building_index.to_series().to_pickle(f\"{local_dir}/index/Residential_SFR_Unit1_1Building_index.pkl\")"
   ]
  },
  {
   "cell_type": "markdown",
   "metadata": {},
   "source": [
    "## 2.8. Get rid of unusual parcels based on PropertyUseCode"
   ]
  },
  {
   "cell_type": "code",
   "execution_count": 16,
   "metadata": {},
   "outputs": [
    {
     "data": {
      "image/png": "[encoded data removed]",
      "text/plain": [
       "<Figure size 720x360 with 1 Axes>"
      ]
     },
     "metadata": {
      "image/png": {
       "height": 331,
       "width": 605
      }
     },
     "output_type": "display_data"
    }
   ],
   "source": [
    "df_LA_parcels_PropertyUseCode = pd.read_pickle(f\"{local_dir}/dataframe/df_LA_parcels_PropertyUseCode.pkl\").loc[Residential_SFR_Unit1_1Building_index]\n",
    "df_LA_parcels_PropertyUseCode_percentage = df_LA_parcels_PropertyUseCode.value_counts(normalize=True) * 100\n",
    "df_LA_parcels_PropertyUseCode_percentage = df_LA_parcels_PropertyUseCode_percentage.to_frame(\"Percentage\").reset_index()\n",
    "Residential_SFR_Unit1_1Building_Regular_index = df_LA_parcels_PropertyUseCode[df_LA_parcels_PropertyUseCode['PropertyUseCode'].isin([\"0100\", \"0101\", \"0103\", \"0104\"])].index\n",
    "Residential_SFR_Unit1_1Building_Regular_index.to_series().to_pickle(f\"{local_dir}/index/Residential_SFR_Unit1_1Building_Regular_index.pkl\")\n",
    "\n",
    "plt.figure(figsize=(10,5))\n",
    "ax = sns.barplot(data=df_LA_parcels_PropertyUseCode_percentage.iloc[:5], x=\"PropertyUseCode\", y=\"Percentage\")\n",
    "plt.title(\"Classification of Selected Residential Parcels in LA County by PropertyUseCode\")\n",
    "labels = [\"No Pool\", \"Pool\", \"Planned Dev.\", \"Therapy Pool\", \"Pool and Misc.\"]\n",
    "ax.set_xticklabels(labels);"
   ]
  },
  {
   "cell_type": "markdown",
   "metadata": {},
   "source": [
    "## 2.9. Remove public parcels"
   ]
  },
  {
   "cell_type": "code",
   "execution_count": 17,
   "metadata": {},
   "outputs": [],
   "source": [
    "df_LA_parcels_SpecialParcelClassification = pd.read_pickle(f\"{local_dir}/dataframe/df_LA_parcels_SpecialParcelClassification.pkl\").loc[Residential_SFR_Unit1_1Building_Regular_index]\n",
    "Residential_SFR_Unit1_1Building_Regular_Private_index = df_LA_parcels_SpecialParcelClassification[(df_LA_parcels_SpecialParcelClassification['SpecialParcelClassification'] != \"Public (non-taxable government-owned)\") &\n",
    "(df_LA_parcels_SpecialParcelClassification['SpecialParcelClassification'] != \"Public Entity (Green Code)\") & \n",
    "(df_LA_parcels_SpecialParcelClassification['SpecialParcelClassification'] != \"State Board of Equilization Assessed\")].index\n",
    "\n",
    "Residential_SFR_Unit1_1Building_Regular_Private_index.to_series().to_pickle(f\"{local_dir}/index/Residential_SFR_Unit1_1Building_Regular_Private_index.pkl\")"
   ]
  },
  {
   "cell_type": "markdown",
   "metadata": {},
   "source": [
    "## 2.10. Check if parcels are taxable"
   ]
  },
  {
   "cell_type": "code",
   "execution_count": 18,
   "metadata": {},
   "outputs": [
    {
     "data": {
      "text/plain": [
       "isTaxableParcel?\n",
       "Y                   100.0\n",
       "dtype: float64"
      ]
     },
     "execution_count": 18,
     "metadata": {},
     "output_type": "execute_result"
    }
   ],
   "source": [
    "df_LA_parcels_isTaxableParcel = pd.read_pickle(f\"{local_dir}/dataframe/df_LA_parcels_isTaxableParcel?.pkl\").loc[Residential_SFR_Unit1_1Building_Regular_Private_index]\n",
    "df_LA_parcels_isTaxableParcel.value_counts(normalize=True) * 100"
   ]
  },
  {
   "cell_type": "markdown",
   "metadata": {},
   "source": [
    "## 2.11. Filter parcels only in Los Angeles City (Based on ZIP code)"
   ]
  },
  {
   "cell_type": "code",
   "execution_count": 19,
   "metadata": {},
   "outputs": [],
   "source": [
    "zip_codes_los_angeles_city = pd.read_csv(f\"{local_dir}/geographic/Los_Angeles_City_Zip_Codes.csv\")\n",
    "\n",
    "df_LA_parcels_ZIPcode5 = pd.read_pickle(f\"{local_dir}/dataframe/df_LA_parcels_ZIPcode5.pkl\").loc[Residential_SFR_Unit1_1Building_Regular_Private_index].dropna().astype(int)\n",
    "Residential_SFR_Unit1_1Building_Regular_Private_LACity_index = df_LA_parcels_ZIPcode5[df_LA_parcels_ZIPcode5[\"ZIPcode5\"].isin(zip_codes_los_angeles_city[\"ZIP\"])].index\n",
    "Residential_SFR_Unit1_1Building_Regular_Private_LACity_index.to_series().to_pickle(f\"{local_dir}/index/Residential_SFR_Unit1_1Building_Regular_Private_LACity_index.pkl\")"
   ]
  },
  {
   "cell_type": "markdown",
   "metadata": {},
   "source": [
    "## 2.12. Keep only RollYear 2021"
   ]
  },
  {
   "cell_type": "code",
   "execution_count": 20,
   "metadata": {},
   "outputs": [],
   "source": [
    "df_LA_parcels_LandBaseYear = pd.read_pickle(f\"{local_dir}/dataframe/df_LA_parcels_RollYear.pkl\").loc[Residential_SFR_Unit1_1Building_Regular_Private_LACity_index]\n",
    "\n",
    "Residential_SFR_Unit1_1Building_Regular_Private_LACity_Roll2021_index = df_LA_parcels_LandBaseYear[df_LA_parcels_LandBaseYear[\"RollYear\"] == 2021].index\n",
    "Residential_SFR_Unit1_1Building_Regular_Private_LACity_Roll2021_index.to_series().to_pickle(f\"{local_dir}/index/Residential_SFR_Unit1_1Building_Regular_Private_LACity_Roll2021_index.pkl\")"
   ]
  },
  {
   "cell_type": "markdown",
   "metadata": {},
   "source": [
    "## 2.13. Calculate min distance to the bus bench or subway stop"
   ]
  },
  {
   "cell_type": "code",
   "execution_count": null,
   "metadata": {},
   "outputs": [],
   "source": [
    "from functions import haversine\n",
    "from shapely.ops import nearest_points\n",
    "\n",
    "# Import and save shape files\n",
    "gdf_LA_city_bus_benches = gpd.read_file(f\"{local_dir}/geographic/Bus_Stop_Benches.shp\")[[\"NUMBER\", \"geometry\"]]\n",
    "gdf_LA_city_bus_benches.to_pickle(f\"{local_dir}/geographic/gdf_LA_city_bus_benches.pkl\")\n",
    "bus_points = gdf_LA_city_bus_benches.geometry.unary_union\n",
    "\n",
    "gdf_LA_city_subway_stops = gpd.read_file(f\"{local_dir}/geographic/Metro_Rail_Lines_Stops.shp\")[[\"StopNumber\", \"geometry\"]]\n",
    "gdf_LA_city_subway_stops = gdf_LA_city_subway_stops.drop_duplicates()\n",
    "gdf_LA_city_subway_stops.to_pickle(f\"{local_dir}/geographic/gdf_LA_city_subway_stops.pkl\")\n",
    "subway_points = gdf_LA_city_subway_stops.geometry.unary_union\n",
    "\n",
    "# Import parcel dataframes\n",
    "index = Residential_SFR_Unit1_1Building_Regular_Private_LACity_Roll2021_index\n",
    "\n",
    "df_LA_parcels_AIN = pd.read_pickle(f\"{local_dir}/dataframe/df_LA_parcels_AIN.pkl\").loc[index]\n",
    "df_LA_parcels_CENTER_LAT = pd.read_pickle(f\"{local_dir}/dataframe/df_LA_parcels_CENTER_LAT.pkl\").loc[index]\n",
    "df_LA_parcels_CENTER_LON = pd.read_pickle(f\"{local_dir}/dataframe/df_LA_parcels_CENTER_LON.pkl\").loc[index]\n",
    "\n",
    "df_LAcity_parcels = pd.concat([df_LA_parcels_AIN,\n",
    "                               df_LA_parcels_CENTER_LAT,\n",
    "                               df_LA_parcels_CENTER_LON], axis=1)\n",
    "\n",
    "# Remove parcels that do not have LAT and LON coordinates\n",
    "df_LAcity_parcels.dropna(inplace=True)\n",
    "\n",
    "# Create a geodataframe with parcel coordinates\n",
    "gdf_LAcity_parcels = gpd.GeoDataFrame(df_LAcity_parcels, geometry=gpd.points_from_xy(df_LAcity_parcels[\"CENTER_LON\"], df_LAcity_parcels[\"CENTER_LAT\"]))\n",
    "\n",
    "df_LAcity_parcels[\"BusBenchClosestDist\"] = [haversine(nearest_points(row[1][\"geometry\"], bus_points)) for row in gdf_LAcity_parcels.iterrows()]\n",
    "df_LAcity_parcels[\"SubwayStopClosestDist\"] = [haversine(nearest_points(row[1][\"geometry\"], subway_points)) for row in gdf_LAcity_parcels.iterrows()]\n",
    "\n",
    "df_LAcity_parcels[[\"BusBenchClosestDist\", \"SubwayStopClosestDist\"]].to_pickle(f\"{local_dir}/dataframe/df_LAcity_parcels_closest_distance_BusSubway.pkl\")\n",
    "Residential_SFR_Unit1_1Building_Regular_Private_LACity_Roll2021_closest_distance_BusSubway_index = df_LAcity_parcels.index\n",
    "Residential_SFR_Unit1_1Building_Regular_Private_LACity_Roll2021_closest_distance_BusSubway_index.to_series().to_pickle(f\"{local_dir}/index/Residential_SFR_Unit1_1Building_Regular_Private_LACity_Roll2021_closest_distance_BusSubway_index.pkl\")"
   ]
  },
  {
   "cell_type": "markdown",
   "metadata": {},
   "source": [
    "## 2.14. Locate neighborhood of each parcel"
   ]
  },
  {
   "cell_type": "code",
   "execution_count": null,
   "metadata": {},
   "outputs": [],
   "source": [
    "gdf_LA_city_neigborhoods = gpd.read_file(f\"{local_dir}/geographic/cfbcc20d-2c5d-4c30-9dfa-627d46ec1a742020328-1-9ulknm.pzqsm.shp\")\n",
    "\n",
    "index = pd.read_pickle(f\"{local_dir}/index/Residential_SFR_Unit1_1Building_Regular_Private_LACity_Roll2021_closest_distance_BusSubway_index.pkl\")\n",
    "\n",
    "df_LA_parcels_AIN = pd.read_pickle(f\"{local_dir}/dataframe/df_LA_parcels_AIN.pkl\").loc[index]\n",
    "df_LA_parcels_CENTER_LAT = pd.read_pickle(f\"{local_dir}/dataframe/df_LA_parcels_CENTER_LAT.pkl\").loc[index]\n",
    "df_LA_parcels_CENTER_LON = pd.read_pickle(f\"{local_dir}/dataframe/df_LA_parcels_CENTER_LON.pkl\").loc[index]\n",
    "\n",
    "df_LAcity_parcels = pd.concat([df_LA_parcels_AIN,\n",
    "                               df_LA_parcels_CENTER_LAT,\n",
    "                               df_LA_parcels_CENTER_LON], axis=1)\n",
    "\n",
    "df_LAcity_parcels.dropna(inplace=True)\n",
    "gdf_LAcity_parcels = gpd.GeoDataFrame(df_LAcity_parcels, geometry=gpd.points_from_xy(df_LAcity_parcels[\"CENTER_LON\"], df_LAcity_parcels[\"CENTER_LAT\"]))\n",
    "\n",
    "gdf_LAcity_parcels[\"Neighborhood\"] = np.nan\n",
    "for row in gdf_LAcity_parcels.iterrows():\n",
    "    dummy = gdf_LA_city_neigborhoods[gdf_LA_city_neigborhoods.geometry.contains(row[1][\"geometry\"])][\"name\"].to_list()\n",
    "    if len(dummy) > 0:\n",
    "        gdf_LAcity_parcels.loc[row[0], \"Neighborhood\"] = dummy\n",
    "\n",
    "df_LAcity_parcels_neighborhood = gdf_LAcity_parcels.drop(columns=[\"CENTER_LAT\", \"CENTER_LON\", \"geometry\", \"AIN\"])\n",
    "df_LAcity_parcels_neighborhood.to_pickle(f\"{local_dir}/dataframe/df_LAcity_parcels_neighborhood.pkl\")       "
   ]
  },
  {
   "cell_type": "markdown",
   "metadata": {},
   "source": [
    "## 2.15. Combine and merge filtered dataframes"
   ]
  },
  {
   "cell_type": "code",
   "execution_count": null,
   "metadata": {},
   "outputs": [],
   "source": [
    "index_final = pd.read_pickle(f\"{local_dir}/index/Residential_SFR_Unit1_1Building_Regular_Private_LACity_Roll2021_closest_distance_BusSubway_index.pkl\")\n",
    "\n",
    "df_LA_parcels_AIN = pd.read_pickle(f\"{local_dir}/dataframe/df_LA_parcels_AIN.pkl\").loc[index_final]\n",
    "df_LA_parcels_LandValue = pd.read_pickle(f\"{local_dir}/dataframe/df_LA_parcels_LandValue.pkl\").loc[index_final]\n",
    "df_LA_parcels_LandValue[\"LandValue\"] = df_LA_parcels_LandValue[\"LandValue\"].str.replace(\",\", \"\").astype(float)\n",
    "df_LA_parcels_LandBaseYear = pd.read_pickle(f\"{local_dir}/dataframe/df_LA_parcels_LandBaseYear.pkl\").loc[index_final]\n",
    "df_LA_parcels_TotalValue = pd.read_pickle(f\"{local_dir}/dataframe/df_LA_parcels_TotalValue.pkl\").loc[index_final]\n",
    "df_LA_parcels_TotalValue[\"TotalValue\"] = df_LA_parcels_TotalValue[\"TotalValue\"].str.replace(\",\", \"\").astype(float)\n",
    "df_LA_parcels_SQFTmain = pd.read_pickle(f\"{local_dir}/dataframe/df_LA_parcels_SQFTmain.pkl\").loc[index_final]\n",
    "df_LA_parcels_SQFTmain[\"SQFTmain\"] = df_LA_parcels_SQFTmain[\"SQFTmain\"].str.replace(\",\", \"\").astype(float)\n",
    "df_LA_parcels_Bedrooms = pd.read_pickle(f\"{local_dir}/dataframe/df_LA_parcels_Bedrooms.pkl\").loc[index_final]\n",
    "df_LA_parcels_Bathrooms = pd.read_pickle(f\"{local_dir}/dataframe/df_LA_parcels_Bathrooms.pkl\").loc[index_final]\n",
    "df_LA_parcels_PropertyUseCode = pd.read_pickle(f\"{local_dir}/dataframe/df_LA_parcels_PropertyUseCode.pkl\").loc[index_final].astype(str)\n",
    "df_LA_parcels_YearBuilt = pd.read_pickle(f\"{local_dir}/dataframe/df_LA_parcels_YearBuilt.pkl\").loc[index_final]\n",
    "df_LA_parcels_EffectiveYearBuilt = pd.read_pickle(f\"{local_dir}/dataframe/df_LA_parcels_EffectiveYearBuilt.pkl\").loc[index_final]\n",
    "df_LA_parcels_TaxRateArea = pd.read_pickle(f\"{local_dir}/dataframe/df_LA_parcels_TaxRateArea.pkl\").loc[index_final]\n",
    "df_LA_parcels_Cluster = pd.read_pickle(f\"{local_dir}/dataframe/df_LA_parcels_Cluster.pkl\").loc[index_final]\n",
    "df_LA_parcels_ZIPcode = pd.read_pickle(f\"{local_dir}/dataframe/df_LA_parcels_ZIPcode.pkl\").loc[index_final]\n",
    "df_LA_parcels_ZIPcode[[\"ZIPcode5\",\"ZIPcode4\"]] = df_LA_parcels_ZIPcode[\"ZIPcode\"].str.split('-', expand=True)\n",
    "df_LA_parcels_ZIPcode = df_LA_parcels_ZIPcode.drop(columns=[\"ZIPcode\"]).astype({\"ZIPcode5\": \"int64\"})\n",
    "df_LAcity_parcels_closest_distance_BusSubway = pd.read_pickle(f\"{local_dir}/dataframe/df_LAcity_parcels_closest_distance_BusSubway.pkl\")\n",
    "df_LAcity_parcels_neighborhood = pd.read_pickle(f\"{local_dir}/dataframe/df_LAcity_parcels_neighborhood.pkl\")   \n",
    "parcel_boundaries_LA_cleaned = pd.read_pickle(f\"{local_dir}/geographic/parcel_boundaries_LA_cleaned.pkl\")\n",
    "\n",
    "df_LA_parcels_filted = pd.concat([df_LA_parcels_AIN,\n",
    "                                  df_LA_parcels_SQFTmain,\n",
    "                                  df_LA_parcels_Bedrooms,\n",
    "                                  df_LA_parcels_Bathrooms,\n",
    "                                  df_LA_parcels_LandValue, \n",
    "                                  df_LA_parcels_LandBaseYear, \n",
    "                                  df_LA_parcels_TotalValue,\n",
    "                                  df_LA_parcels_YearBuilt,\n",
    "                                  df_LA_parcels_EffectiveYearBuilt,\n",
    "                                  df_LA_parcels_PropertyUseCode,\n",
    "                                  df_LA_parcels_TaxRateArea,\n",
    "                                  df_LA_parcels_Cluster,\n",
    "                                  df_LA_parcels_ZIPcode,\n",
    "                                  df_LAcity_parcels_closest_distance_BusSubway,\n",
    "                                  df_LAcity_parcels_neighborhood\n",
    "                                  ], axis=1).merge(parcel_boundaries_LA_cleaned, how=\"left\", on=\"AIN\")\n",
    "\n",
    "df_LA_parcels_LAcity_filted = df_LA_parcels_filted.dropna(subset=[\"Neighborhood\"])\n",
    "df_LA_parcels_LAcity_filted.to_pickle(f\"{local_dir}/dataframe/df_LA_parcels_LAcity_filtered.pkl\", compression=\"gzip\")\n",
    "df_LA_parcels_LAcity_filted.to_pickle(f\"{github_dir}/dataframes/df_LA_parcels_LAcity_filtered_REV2_MB.pkl\", compression=\"gzip\")\n",
    "df_LA_parcels_LAcity_filted.info()"
   ]
  }
 ],
 "metadata": {
  "kernelspec": {
   "display_name": "geopandas",
   "language": "python",
   "name": "geopandas"
  },
  "language_info": {
   "codemirror_mode": {
    "name": "ipython",
    "version": 3
   },
   "file_extension": ".py",
   "mimetype": "text/x-python",
   "name": "python",
   "nbconvert_exporter": "python",
   "pygments_lexer": "ipython3",
   "version": "3.9.8"
  },
  "orig_nbformat": 4
 },
 "nbformat": 4,
 "nbformat_minor": 2
}
