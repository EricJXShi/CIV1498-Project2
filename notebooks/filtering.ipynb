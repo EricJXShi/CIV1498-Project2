{
 "cells": [
  {
   "cell_type": "markdown",
   "metadata": {},
   "source": [
    "# 1. Import modules"
   ]
  },
  {
   "cell_type": "code",
   "execution_count": 1,
   "metadata": {},
   "outputs": [],
   "source": [
    "import numpy as np\n",
    "import pandas as pd\n",
    "import seaborn as sns\n",
    "import geopandas as gpd\n",
    "import matplotlib.pyplot as plt\n",
    "import matplotlib_inline.backend_inline\n",
    "matplotlib_inline.backend_inline.set_matplotlib_formats(\"retina\")\n",
    "plt.rcParams[\"figure.facecolor\"] = \"white\""
   ]
  },
  {
   "cell_type": "markdown",
   "metadata": {},
   "source": [
    "# 2. Load dataset"
   ]
  },
  {
   "cell_type": "code",
   "execution_count": 2,
   "metadata": {},
   "outputs": [],
   "source": [
    "home_dir = \"$HOME\"\n",
    "local_dir = f\"{home_dir}/Documents/github/CIV1498/projects/project2\"\n",
    "github_dir = f\"{home_dir}/Documents/github/CIV1498-Project2\"\n",
    "\n",
    "# df_LA_parcels = pd.read_csv(f\"{local_dir}/Assessor_Parcels_Data_-_2006_thru_2021.csv\")\n",
    "# df_LA_parcels_columns = pd.Series(df_LA_parcels.columns.to_list())\n",
    "# df_LA_parcels_columns.to_pickle(f\"{local_dir}/df_LA_parcels_columns.pkl\")"
   ]
  },
  {
   "cell_type": "markdown",
   "metadata": {},
   "source": [
    "## 2.1. See available columns in the dataset"
   ]
  },
  {
   "cell_type": "code",
   "execution_count": null,
   "metadata": {},
   "outputs": [],
   "source": [
    "df_LA_parcels_columns = pd.read_pickle(f\"{local_dir}/dataframe/df_LA_parcels_columns.pkl\")\n",
    "df_LA_parcels_columns"
   ]
  },
  {
   "cell_type": "markdown",
   "metadata": {},
   "source": [
    "## 2.2. Filter \"Residential\" parcels only"
   ]
  },
  {
   "cell_type": "code",
   "execution_count": null,
   "metadata": {},
   "outputs": [],
   "source": [
    "df_LA_parcels_GeneralUseType = pd.read_pickle(f\"{local_dir}/dataframe/df_LA_parcels_GeneralUseType.pkl\")\n",
    "Residential_index = df_LA_parcels_GeneralUseType[df_LA_parcels_GeneralUseType['GeneralUseType'] == 'Residential'].index\n",
    "Residential_index.to_series().to_pickle(f\"{local_dir}/index/Residential_index.pkl\")"
   ]
  },
  {
   "cell_type": "markdown",
   "metadata": {},
   "source": [
    "## 2.3. Filter \"Single Family Residence (SFR)\" parcels only"
   ]
  },
  {
   "cell_type": "code",
   "execution_count": null,
   "metadata": {},
   "outputs": [],
   "source": [
    "# df_LA_parcels_PropertyType = pd.read_pickle(f\"{local_dir}/dataframe/df_LA_parcels_PropertyType.pkl\")\n",
    "# df_LA_parcels_SpecificUseType = pd.read_pickle(f\"{local_dir}/dataframe/df_LA_parcels_SpecificUseType.pkl\").loc[Residential_index]\n",
    "# Residential_SFR_index = df_LA_parcels_SpecificUseType[df_LA_parcels_SpecificUseType['SpecificUseType'] == 'Single Family Residence'].index\n",
    "\n",
    "df_LA_parcels_PropertyType = pd.read_pickle(f\"{local_dir}/dataframe/df_LA_parcels_PropertyType.pkl\").loc[Residential_index]\n",
    "Residential_SFR_index = df_LA_parcels_PropertyType[df_LA_parcels_PropertyType['PropertyType'] == 'SFR'].index\n",
    "Residential_SFR_index.to_series().to_pickle(f\"{local_dir}/index/Residential_SFR_index.pkl\")"
   ]
  },
  {
   "cell_type": "markdown",
   "metadata": {},
   "source": [
    "## 2.4. Filter \"Unit == 1\" parcels only"
   ]
  },
  {
   "cell_type": "code",
   "execution_count": null,
   "metadata": {},
   "outputs": [],
   "source": [
    "df_LA_parcels_Units = pd.read_pickle(f\"{local_dir}/dataframe/df_LA_parcels_Units.pkl\").loc[Residential_SFR_index].astype(int)\n",
    "Residential_SFR_Unit1_index = df_LA_parcels_Units[df_LA_parcels_Units['Units'] == 1].index\n",
    "Residential_SFR_Unit1_index.to_series().to_pickle(f\"{local_dir}/index/Residential_SFR_Unit1_index.pkl\")"
   ]
  },
  {
   "cell_type": "markdown",
   "metadata": {},
   "source": [
    "## 2.7. Get rid of parcels if \"totBuildingDataLines != 1\""
   ]
  },
  {
   "cell_type": "code",
   "execution_count": null,
   "metadata": {},
   "outputs": [],
   "source": [
    "df_LA_parcels_totBuildingDataLines = pd.read_pickle(f\"{local_dir}/dataframe/df_LA_parcels_totBuildingDataLines.pkl\").loc[Residential_SFR_Unit1_index]\n",
    "Residential_SFR_Unit1_1Building_index = df_LA_parcels_totBuildingDataLines[df_LA_parcels_totBuildingDataLines['totBuildingDataLines'] == 1].index\n",
    "Residential_SFR_Unit1_1Building_index.to_series().to_pickle(f\"{local_dir}/index/Residential_SFR_Unit1_1Building_index.pkl\")"
   ]
  },
  {
   "cell_type": "markdown",
   "metadata": {},
   "source": [
    "## 2.8. Get rid of unusual parcels based on PropertyUseCode"
   ]
  },
  {
   "cell_type": "code",
   "execution_count": null,
   "metadata": {},
   "outputs": [],
   "source": [
    "df_LA_parcels_PropertyUseCode = pd.read_pickle(f\"{local_dir}/dataframe/df_LA_parcels_PropertyUseCode.pkl\").loc[Residential_SFR_Unit1_1Building_index]\n",
    "df_LA_parcels_PropertyUseCode_percentage = df_LA_parcels_PropertyUseCode.value_counts(normalize=True) * 100\n",
    "df_LA_parcels_PropertyUseCode_percentage = df_LA_parcels_PropertyUseCode_percentage.to_frame(\"Percentage\").reset_index()\n",
    "Residential_SFR_Unit1_1Building_Regular_index = df_LA_parcels_PropertyUseCode[df_LA_parcels_PropertyUseCode['PropertyUseCode'].isin([\"0100\", \"0101\", \"0103\", \"0104\"])].index\n",
    "Residential_SFR_Unit1_1Building_Regular_index.to_series().to_pickle(f\"{local_dir}/index/Residential_SFR_Unit1_1Building_Regular_index.pkl\")\n",
    "\n",
    "plt.figure(figsize=(10,5))\n",
    "ax = sns.barplot(data=df_LA_parcels_PropertyUseCode_percentage.iloc[:5], x=\"PropertyUseCode\", y=\"Percentage\")\n",
    "plt.title(\"Classification of Selected Residential Parcels in LA County by PropertyUseCode\")\n",
    "labels = [\"No Pool\", \"Pool\", \"Planned Dev.\", \"Therapy Pool\", \"Pool and Misc.\"]\n",
    "ax.set_xticklabels(labels);"
   ]
  },
  {
   "cell_type": "markdown",
   "metadata": {},
   "source": [
    "## 2.9. Remove public parcels"
   ]
  },
  {
   "cell_type": "code",
   "execution_count": null,
   "metadata": {},
   "outputs": [],
   "source": [
    "df_LA_parcels_SpecialParcelClassification = pd.read_pickle(f\"{local_dir}/dataframe/df_LA_parcels_SpecialParcelClassification.pkl\").loc[Residential_SFR_Unit1_1Building_Regular_index]\n",
    "Residential_SFR_Unit1_1Building_Regular_Private_index = df_LA_parcels_SpecialParcelClassification[(df_LA_parcels_SpecialParcelClassification['SpecialParcelClassification'] != \"Public (non-taxable government-owned)\") &\n",
    "(df_LA_parcels_SpecialParcelClassification['SpecialParcelClassification'] != \"Public Entity (Green Code)\") & \n",
    "(df_LA_parcels_SpecialParcelClassification['SpecialParcelClassification'] != \"State Board of Equilization Assessed\")].index\n",
    "\n",
    "Residential_SFR_Unit1_1Building_Regular_Private_index.to_series().to_pickle(f\"{local_dir}/index/Residential_SFR_Unit1_1Building_Regular_Private_index.pkl\")"
   ]
  },
  {
   "cell_type": "markdown",
   "metadata": {},
   "source": [
    "## 2.10. Check if parcels are taxable"
   ]
  },
  {
   "cell_type": "code",
   "execution_count": null,
   "metadata": {},
   "outputs": [],
   "source": [
    "df_LA_parcels_isTaxableParcel = pd.read_pickle(f\"{local_dir}/dataframe/df_LA_parcels_isTaxableParcel?.pkl\").loc[Residential_SFR_Unit1_1Building_Regular_Private_index]\n",
    "df_LA_parcels_isTaxableParcel.value_counts(normalize=True) * 100"
   ]
  },
  {
   "cell_type": "markdown",
   "metadata": {},
   "source": [
    "## 2.11. Filter parcels only in Los Angeles City (Based on ZIP code)"
   ]
  },
  {
   "cell_type": "code",
   "execution_count": null,
   "metadata": {},
   "outputs": [],
   "source": [
    "zip_codes_los_angeles_city = pd.read_csv(f\"{local_dir}/geographic/Los_Angeles_City_Zip_Codes.csv\")\n",
    "\n",
    "df_LA_parcels_ZIPcode5 = pd.read_pickle(f\"{local_dir}/dataframe/df_LA_parcels_ZIPcode5.pkl\").loc[Residential_SFR_Unit1_1Building_Regular_Private_index].dropna().astype(int)\n",
    "Residential_SFR_Unit1_1Building_Regular_Private_LACity_index = df_LA_parcels_ZIPcode5[df_LA_parcels_ZIPcode5[\"ZIPcode5\"].isin(zip_codes_los_angeles_city[\"ZIP\"])].index\n",
    "Residential_SFR_Unit1_1Building_Regular_Private_LACity_index.to_series().to_pickle(f\"{local_dir}/index/Residential_SFR_Unit1_1Building_Regular_Private_LACity_index.pkl\")"
   ]
  },
  {
   "cell_type": "markdown",
   "metadata": {},
   "source": [
    "## 2.12. Keep only RollYear 2021"
   ]
  },
  {
   "cell_type": "code",
   "execution_count": null,
   "metadata": {},
   "outputs": [],
   "source": [
    "df_LA_parcels_LandBaseYear = pd.read_pickle(f\"{local_dir}/dataframe/df_LA_parcels_RollYear.pkl\").loc[Residential_SFR_Unit1_1Building_Regular_Private_LACity_index]\n",
    "\n",
    "Residential_SFR_Unit1_1Building_Regular_Private_LACity_Roll2021_index = df_LA_parcels_LandBaseYear[df_LA_parcels_LandBaseYear[\"RollYear\"] == 2021].index\n",
    "Residential_SFR_Unit1_1Building_Regular_Private_LACity_Roll2021_index.to_series().to_pickle(f\"{local_dir}/index/Residential_SFR_Unit1_1Building_Regular_Private_LACity_Roll2021_index.pkl\")"
   ]
  },
  {
   "cell_type": "markdown",
   "metadata": {},
   "source": [
    "## 2.13. Calculate min distance to the bus bench or subway stop"
   ]
  },
  {
   "cell_type": "code",
   "execution_count": null,
   "metadata": {},
   "outputs": [],
   "source": [
    "from functions import haversine\n",
    "from shapely.ops import nearest_points\n",
    "\n",
    "# Import and save shape files\n",
    "gdf_LA_city_bus_benches = gpd.read_file(f\"{local_dir}/geographic/Bus_Stop_Benches.shp\")[[\"NUMBER\", \"geometry\"]]\n",
    "gdf_LA_city_bus_benches.to_pickle(f\"{local_dir}/geographic/gdf_LA_city_bus_benches.pkl\")\n",
    "bus_points = gdf_LA_city_bus_benches.geometry.unary_union\n",
    "\n",
    "gdf_LA_city_subway_stops = gpd.read_file(f\"{local_dir}/geographic/Metro_Rail_Lines_Stops.shp\")[[\"StopNumber\", \"geometry\"]]\n",
    "gdf_LA_city_subway_stops = gdf_LA_city_subway_stops.drop_duplicates()\n",
    "gdf_LA_city_subway_stops.to_pickle(f\"{local_dir}/geographic/gdf_LA_city_subway_stops.pkl\")\n",
    "subway_points = gdf_LA_city_subway_stops.geometry.unary_union\n",
    "\n",
    "# Import parcel dataframes\n",
    "index = Residential_SFR_Unit1_1Building_Regular_Private_LACity_Roll2021_index\n",
    "\n",
    "df_LA_parcels_AIN = pd.read_pickle(f\"{local_dir}/dataframe/df_LA_parcels_AIN.pkl\").loc[index]\n",
    "df_LA_parcels_CENTER_LAT = pd.read_pickle(f\"{local_dir}/dataframe/df_LA_parcels_CENTER_LAT.pkl\").loc[index]\n",
    "df_LA_parcels_CENTER_LON = pd.read_pickle(f\"{local_dir}/dataframe/df_LA_parcels_CENTER_LON.pkl\").loc[index]\n",
    "\n",
    "df_LAcity_parcels = pd.concat([df_LA_parcels_AIN,\n",
    "                               df_LA_parcels_CENTER_LAT,\n",
    "                               df_LA_parcels_CENTER_LON], axis=1)\n",
    "\n",
    "# Remove parcels that do not have LAT and LON coordinates\n",
    "df_LAcity_parcels.dropna(inplace=True)\n",
    "\n",
    "# Create a geodataframe with parcel coordinates\n",
    "gdf_LAcity_parcels = gpd.GeoDataFrame(df_LAcity_parcels, geometry=gpd.points_from_xy(df_LAcity_parcels[\"CENTER_LON\"], df_LAcity_parcels[\"CENTER_LAT\"]))\n",
    "\n",
    "df_LAcity_parcels[\"BusBenchClosestDist\"] = [haversine(nearest_points(row[1][\"geometry\"], bus_points)) for row in gdf_LAcity_parcels.iterrows()]\n",
    "df_LAcity_parcels[\"SubwayStopClosestDist\"] = [haversine(nearest_points(row[1][\"geometry\"], subway_points)) for row in gdf_LAcity_parcels.iterrows()]\n",
    "\n",
    "df_LAcity_parcels[[\"BusBenchClosestDist\", \"SubwayStopClosestDist\"]].to_pickle(f\"{local_dir}/dataframe/df_LAcity_parcels_closest_distance_BusSubway.pkl\")\n",
    "Residential_SFR_Unit1_1Building_Regular_Private_LACity_Roll2021_closest_distance_BusSubway_index = df_LAcity_parcels.index\n",
    "Residential_SFR_Unit1_1Building_Regular_Private_LACity_Roll2021_closest_distance_BusSubway_index.to_series().to_pickle(f\"{local_dir}/index/Residential_SFR_Unit1_1Building_Regular_Private_LACity_Roll2021_closest_distance_BusSubway_index.pkl\")"
   ]
  },
  {
   "cell_type": "markdown",
   "metadata": {},
   "source": [
    "## 2.14. Locate neighborhood of each parcel"
   ]
  },
  {
   "cell_type": "code",
   "execution_count": null,
   "metadata": {},
   "outputs": [],
   "source": [
    "gdf_LA_city_neigborhoods = gpd.read_file(f\"{local_dir}/geographic/cfbcc20d-2c5d-4c30-9dfa-627d46ec1a742020328-1-9ulknm.pzqsm.shp\")\n",
    "\n",
    "index = pd.read_pickle(f\"{local_dir}/index/Residential_SFR_Unit1_1Building_Regular_Private_LACity_Roll2021_closest_distance_BusSubway_index.pkl\")\n",
    "\n",
    "df_LA_parcels_AIN = pd.read_pickle(f\"{local_dir}/dataframe/df_LA_parcels_AIN.pkl\").loc[index]\n",
    "df_LA_parcels_CENTER_LAT = pd.read_pickle(f\"{local_dir}/dataframe/df_LA_parcels_CENTER_LAT.pkl\").loc[index]\n",
    "df_LA_parcels_CENTER_LON = pd.read_pickle(f\"{local_dir}/dataframe/df_LA_parcels_CENTER_LON.pkl\").loc[index]\n",
    "\n",
    "df_LAcity_parcels = pd.concat([df_LA_parcels_AIN,\n",
    "                               df_LA_parcels_CENTER_LAT,\n",
    "                               df_LA_parcels_CENTER_LON], axis=1)\n",
    "\n",
    "df_LAcity_parcels.dropna(inplace=True)\n",
    "gdf_LAcity_parcels = gpd.GeoDataFrame(df_LAcity_parcels, geometry=gpd.points_from_xy(df_LAcity_parcels[\"CENTER_LON\"], df_LAcity_parcels[\"CENTER_LAT\"]))\n",
    "\n",
    "gdf_LAcity_parcels[\"Neighborhood\"] = np.nan\n",
    "for row in gdf_LAcity_parcels.iterrows():\n",
    "    dummy = gdf_LA_city_neigborhoods[gdf_LA_city_neigborhoods.geometry.contains(row[1][\"geometry\"])][\"name\"].to_list()\n",
    "    if len(dummy) > 0:\n",
    "        gdf_LAcity_parcels.loc[row[0], \"Neighborhood\"] = dummy\n",
    "\n",
    "df_LAcity_parcels_neighborhood = gdf_LAcity_parcels.drop(columns=[\"CENTER_LAT\", \"CENTER_LON\", \"geometry\", \"AIN\"])\n",
    "df_LAcity_parcels_neighborhood.to_pickle(f\"{local_dir}/dataframe/df_LAcity_parcels_neighborhood.pkl\")       "
   ]
  },
  {
   "cell_type": "markdown",
   "metadata": {},
   "source": [
    "## 2.15. Cleanliness of each neighborhood"
   ]
  },
  {
   "cell_type": "code",
   "execution_count": null,
   "metadata": {},
   "outputs": [],
   "source": [
    "from scipy.spatial import KDTree  \n",
    "\n",
    "gdf_LA_city_neigborhoods = gpd.read_file(f\"{local_dir}/geographic/cfbcc20d-2c5d-4c30-9dfa-627d46ec1a742020328-1-9ulknm.pzqsm.shp\")\n",
    "gdf_LA_city_street_cleanliness = gpd.read_file(f\"{local_dir}/geographic/Clean_Streets_Index_Segments_2021_B1.shp\")\n",
    "gdf_LA_city_street_cleanliness = gdf_LA_city_street_cleanliness[['CS_RoundSc', 'BIScore', 'IDScore', 'WdsScore', 'LLScore', 'geometry']]\n",
    "gdf_LA_city_street_cleanliness[\"centroid\"] = gdf_LA_city_street_cleanliness.centroid\n",
    "gdf_LA_city_street_cleanliness_all_streets = gdf_LA_city_street_cleanliness[\"centroid\"].unary_union\n",
    "index = pd.read_pickle(f\"{local_dir}/index/Residential_SFR_Unit1_1Building_Regular_Private_LACity_Roll2021_closest_distance_BusSubway_index.pkl\")\n",
    "\n",
    "df_LA_parcels_AIN = pd.read_pickle(f\"{local_dir}/dataframe/df_LA_parcels_AIN.pkl\").loc[index]\n",
    "df_LA_parcels_CENTER_LAT = pd.read_pickle(f\"{local_dir}/dataframe/df_LA_parcels_CENTER_LAT.pkl\").loc[index]\n",
    "df_LA_parcels_CENTER_LON = pd.read_pickle(f\"{local_dir}/dataframe/df_LA_parcels_CENTER_LON.pkl\").loc[index]\n",
    "\n",
    "df_LAcity_parcels = pd.concat([df_LA_parcels_AIN,\n",
    "                               df_LA_parcels_CENTER_LAT,\n",
    "                               df_LA_parcels_CENTER_LON], axis=1)\n",
    "\n",
    "df_LAcity_parcels.dropna(inplace=True)\n",
    "gdf_LAcity_parcels = gpd.GeoDataFrame(df_LAcity_parcels, geometry=gpd.points_from_xy(df_LAcity_parcels[\"CENTER_LON\"], df_LAcity_parcels[\"CENTER_LAT\"])).set_crs(\"epsg:4326\")\n",
    "\n",
    "df_LAcity_parcels[[\"C_score\", \"BI_score\", \"ID_score\", \"Wd_score\", \"LL_score\"]] = np.nan \n",
    "\n",
    "gdf_LA_city_street_cleanliness[\"CENTER_LON\"] = gdf_LA_city_street_cleanliness.centroid.map(lambda p: p.x)\n",
    "gdf_LA_city_street_cleanliness[\"CENTER_LAT\"] = gdf_LA_city_street_cleanliness.centroid.map(lambda p: p.y)\n",
    "\n",
    "sample = df_LAcity_parcels[[\"CENTER_LON\", \"CENTER_LAT\"]].values\n",
    "data = gdf_LA_city_street_cleanliness[[\"CENTER_LON\", \"CENTER_LAT\"]].values\n",
    "kdtree = KDTree(data)\n",
    "\n",
    "dist, points = kdtree.query(sample,1)\n",
    "dist_points = np.array([dist, points]).T\n",
    "\n",
    "for i, point in enumerate(points):\n",
    "\n",
    "    df_LAcity_parcels.loc[df_LAcity_parcels.index[i], \"C_score\":\"LL_score\"] = gdf_LA_city_street_cleanliness[[\"CS_RoundSc\", \"BIScore\", \"IDScore\", \"WdsScore\", \"LLScore\"]].loc[point].to_list()\n",
    "\n",
    "    if i % 10000 == 0:\n",
    "        print(f\"Current row = {i}\")\n",
    "\n",
    "df_LAcity_parcels.to_pickle(f\"{local_dir}/dataframe/df_LAcity_parcels_cleanliness.pkl\")\n",
    "df_LAcity_parcels[[\"C_score\", \"BI_score\", \"ID_score\", \"Wd_score\", \"LL_score\", \"AIN\"]].astype(int).to_pickle(f\"{github_dir}/dataframes/df_LAcity_parcels_cleanliness_index.pkl\")"
   ]
  },
  {
   "cell_type": "markdown",
   "metadata": {},
   "source": [
    "## 2.16. Combine and merge filtered dataframes"
   ]
  },
  {
   "cell_type": "code",
   "execution_count": 36,
   "metadata": {},
   "outputs": [],
   "source": [
    "index_final = pd.read_pickle(f\"{local_dir}/index/Residential_SFR_Unit1_1Building_Regular_Private_LACity_Roll2021_closest_distance_BusSubway_index.pkl\")\n",
    "\n",
    "df_LA_parcels_AIN = pd.read_pickle(f\"{local_dir}/dataframe/df_LA_parcels_AIN.pkl\").loc[index_final]\n",
    "df_LA_parcels_LandValue = pd.read_pickle(f\"{local_dir}/dataframe/df_LA_parcels_LandValue.pkl\").loc[index_final]\n",
    "df_LA_parcels_LandValue[\"LandValue\"] = df_LA_parcels_LandValue[\"LandValue\"].str.replace(\",\", \"\").astype(float)\n",
    "df_LA_parcels_LandBaseYear = pd.read_pickle(f\"{local_dir}/dataframe/df_LA_parcels_LandBaseYear.pkl\").loc[index_final]\n",
    "df_LA_parcels_TotalValue = pd.read_pickle(f\"{local_dir}/dataframe/df_LA_parcels_TotalValue.pkl\").loc[index_final]\n",
    "df_LA_parcels_TotalValue[\"TotalValue\"] = df_LA_parcels_TotalValue[\"TotalValue\"].str.replace(\",\", \"\").astype(float)\n",
    "df_LA_parcels_SQFTmain = pd.read_pickle(f\"{local_dir}/dataframe/df_LA_parcels_SQFTmain.pkl\").loc[index_final]\n",
    "df_LA_parcels_SQFTmain[\"SQFTmain\"] = df_LA_parcels_SQFTmain[\"SQFTmain\"].str.replace(\",\", \"\").astype(float)\n",
    "df_LA_parcels_Bedrooms = pd.read_pickle(f\"{local_dir}/dataframe/df_LA_parcels_Bedrooms.pkl\").loc[index_final]\n",
    "df_LA_parcels_Bathrooms = pd.read_pickle(f\"{local_dir}/dataframe/df_LA_parcels_Bathrooms.pkl\").loc[index_final]\n",
    "df_LA_parcels_PropertyUseCode = pd.read_pickle(f\"{local_dir}/dataframe/df_LA_parcels_PropertyUseCode.pkl\").loc[index_final].astype(str)\n",
    "df_LA_parcels_YearBuilt = pd.read_pickle(f\"{local_dir}/dataframe/df_LA_parcels_YearBuilt.pkl\").loc[index_final]\n",
    "df_LA_parcels_EffectiveYearBuilt = pd.read_pickle(f\"{local_dir}/dataframe/df_LA_parcels_EffectiveYearBuilt.pkl\").loc[index_final]\n",
    "df_LA_parcels_TaxRateArea = pd.read_pickle(f\"{local_dir}/dataframe/df_LA_parcels_TaxRateArea.pkl\").loc[index_final]\n",
    "df_LA_parcels_Cluster = pd.read_pickle(f\"{local_dir}/dataframe/df_LA_parcels_Cluster.pkl\").loc[index_final]\n",
    "df_LA_parcels_ZIPcode = pd.read_pickle(f\"{local_dir}/dataframe/df_LA_parcels_ZIPcode.pkl\").loc[index_final]\n",
    "df_LA_parcels_ZIPcode[[\"ZIPcode5\",\"ZIPcode4\"]] = df_LA_parcels_ZIPcode[\"ZIPcode\"].str.split('-', expand=True)\n",
    "df_LA_parcels_ZIPcode = df_LA_parcels_ZIPcode.drop(columns=[\"ZIPcode\"]).astype({\"ZIPcode5\": \"int64\"})\n",
    "df_LAcity_parcels_closest_distance_BusSubway = pd.read_pickle(f\"{local_dir}/dataframe/df_LAcity_parcels_closest_distance_BusSubway.pkl\").loc[index_final]\n",
    "df_LAcity_parcels_neighborhood = pd.read_pickle(f\"{local_dir}/dataframe/df_LAcity_parcels_neighborhood.pkl\").loc[index_final]  \n",
    "df_LAcity_parcels_cleanliness = pd.read_pickle(f\"{local_dir}/dataframe/df_LAcity_parcels_cleanliness.pkl\")\\\n",
    "                                    .loc[index_final][[\"C_score\", \"BI_score\", \"ID_score\", \"Wd_score\", \"LL_score\"]].astype(int)\n",
    "parcel_boundaries_LA_cleaned = pd.read_pickle(f\"{local_dir}/geographic/parcel_boundaries_LA_cleaned.pkl\")\n",
    "\n",
    "df_LA_parcels_filted = pd.concat([df_LA_parcels_AIN,\n",
    "                                  df_LA_parcels_SQFTmain,\n",
    "                                  df_LA_parcels_Bedrooms,\n",
    "                                  df_LA_parcels_Bathrooms,\n",
    "                                  df_LA_parcels_LandValue, \n",
    "                                  df_LA_parcels_LandBaseYear, \n",
    "                                  df_LA_parcels_TotalValue,\n",
    "                                  df_LA_parcels_YearBuilt,\n",
    "                                  df_LA_parcels_EffectiveYearBuilt,\n",
    "                                  df_LA_parcels_PropertyUseCode,\n",
    "                                  df_LA_parcels_TaxRateArea,\n",
    "                                  df_LA_parcels_Cluster,\n",
    "                                  df_LA_parcels_ZIPcode,\n",
    "                                  df_LAcity_parcels_closest_distance_BusSubway,\n",
    "                                  df_LAcity_parcels_neighborhood, \n",
    "                                  df_LAcity_parcels_cleanliness\n",
    "                                  ], axis=1).merge(parcel_boundaries_LA_cleaned, how=\"left\", on=\"AIN\")\n",
    "\n",
    "df_LA_parcels_LAcity_filted = df_LA_parcels_filted.dropna(subset=[\"Neighborhood\"])\n",
    "df_LA_parcels_LAcity_filted.to_pickle(f\"{local_dir}/dataframe/df_LA_parcels_LAcity_filtered_REV3_MB.pkl\", compression=\"gzip\")\n",
    "df_LA_parcels_LAcity_filted.to_pickle(f\"{github_dir}/dataframes/df_LA_parcels_LAcity_filtered_REV3_MB.pkl\", compression=\"gzip\")\n",
    "df_LA_parcels_LAcity_filted.info()"
   ]
  },
  {
   "cell_type": "markdown",
   "metadata": {},
   "source": [
    "## 2.17. Visualize selected parcels"
   ]
  },
  {
   "cell_type": "code",
   "execution_count": 35,
   "metadata": {},
   "outputs": [
    {
     "name": "stdout",
     "output_type": "stream",
     "text": [
      "<class 'pandas.core.frame.DataFrame'>\n",
      "Int64Index: 639663 entries, 24892479 to 27177915\n",
      "Data columns (total 23 columns):\n",
      " #   Column                 Non-Null Count   Dtype  \n",
      "---  ------                 --------------   -----  \n",
      " 0   AIN                    639663 non-null  int64  \n",
      " 1   SQFTmain               639663 non-null  float64\n",
      " 2   Bedrooms               639663 non-null  int64  \n",
      " 3   Bathrooms              639663 non-null  int64  \n",
      " 4   LandValue              639663 non-null  float64\n",
      " 5   LandBaseYear           639663 non-null  int64  \n",
      " 6   TotalValue             639663 non-null  float64\n",
      " 7   YearBuilt              639663 non-null  int64  \n",
      " 8   EffectiveYearBuilt     639663 non-null  int64  \n",
      " 9   PropertyUseCode        639663 non-null  object \n",
      " 10  TaxRateArea            639663 non-null  int64  \n",
      " 11  Cluster                639663 non-null  int64  \n",
      " 12  ZIPcode5               639663 non-null  int64  \n",
      " 13  ZIPcode4               636818 non-null  object \n",
      " 14  BusBenchClosestDist    639663 non-null  float64\n",
      " 15  SubwayStopClosestDist  639663 non-null  float64\n",
      " 16  Neighborhood           441121 non-null  object \n",
      " 17  C_score                639663 non-null  int64  \n",
      " 18  BI_score               639663 non-null  int64  \n",
      " 19  ID_score               639663 non-null  int64  \n",
      " 20  Wd_score               639663 non-null  int64  \n",
      " 21  LL_score               639663 non-null  int64  \n",
      " 22  AIN                    639663 non-null  int64  \n",
      "dtypes: float64(5), int64(15), object(3)\n",
      "memory usage: 117.1+ MB\n"
     ]
    }
   ],
   "source": [
    "df_LA_parcels_filted.info()"
   ]
  },
  {
   "cell_type": "code",
   "execution_count": null,
   "metadata": {},
   "outputs": [],
   "source": [
    "# Read shape file for neighborhoods in LA City\n",
    "gdf_LA_city_neigborhoods = gpd.read_file(f\"{local_dir}/geographic/cfbcc20d-2c5d-4c30-9dfa-627d46ec1a742020328-1-9ulknm.pzqsm.shp\")\n",
    "\n",
    "# Plot neighborhood boundaries in LA City\n",
    "ax = gdf_LA_city_neigborhoods.plot(figsize=(16, 9), categorical=True, linewidth=0.5, edgecolor=\"0.2\", alpha=1.0, color=\"white\", legend=False)\n",
    "\n",
    "# Add parcels to the plot above\n",
    "gpd.GeoDataFrame(df_LA_parcels_LAcity_filted.groupby(\"Neighborhood\").mean(), geometry=\"geometry\").plot(ax=ax, categorical=False, column=\"TotalValue\", cmap=\"OrRd\", markersize=1, legend=True, **{\"linewidth\":2})\n",
    "\n",
    "plt.xlabel(\"Longitude\", fontsize=14)\n",
    "plt.ylabel(\"Latitude\", fontsize=14) \n",
    "plt.title(\"Selected Parcels in LA City\", fontsize=16)\n",
    "plt.savefig(f\"{github_dir}/figures/MB/Selected_parcels_in_LAcity.png\", dpi=600, bbox_inches=\"tight\")"
   ]
  }
 ],
 "metadata": {
  "interpreter": {
   "hash": "089e1803d2cb93ce970d3e6075c13c3407a53c2ae69fcc1e237f2c8782f4164c"
  },
  "kernelspec": {
   "display_name": "geopandas",
   "language": "python",
   "name": "geopandas"
  },
  "language_info": {
   "codemirror_mode": {
    "name": "ipython",
    "version": 3
   },
   "file_extension": ".py",
   "mimetype": "text/x-python",
   "name": "python",
   "nbconvert_exporter": "python",
   "pygments_lexer": "ipython3",
   "version": "3.9.8"
  },
  "orig_nbformat": 4
 },
 "nbformat": 4,
 "nbformat_minor": 2
}
