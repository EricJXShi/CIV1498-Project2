{
 "cells": [
  {
   "cell_type": "markdown",
   "metadata": {},
   "source": [
    "# 1. Import modules"
   ]
  },
  {
   "cell_type": "code",
   "execution_count": 3,
   "metadata": {
    "vscode": {
     "languageId": "python"
    }
   },
   "outputs": [],
   "source": [
    "import numpy as np\n",
    "import pandas as pd\n",
    "import seaborn as sns\n",
    "import geopandas as gpd\n",
    "import matplotlib.pyplot as plt\n",
    "import matplotlib_inline.backend_inline\n",
    "matplotlib_inline.backend_inline.set_matplotlib_formats(\"retina\")\n",
    "plt.rcParams[\"figure.facecolor\"] = \"white\"\n",
    "\n",
    "home_dir = \"$HOME\"\n",
    "local_dir = f\"{home_dir}/Documents/github/CIV1498/projects/project2\"\n",
    "github_dir = f\"{home_dir}/Documents/github/CIV1498-Project2\""
   ]
  },
  {
   "cell_type": "markdown",
   "metadata": {},
   "source": [
    "# 2. Basic cleaning"
   ]
  },
  {
   "cell_type": "code",
   "execution_count": 6,
   "metadata": {
    "vscode": {
     "languageId": "python"
    }
   },
   "outputs": [
    {
     "name": "stdout",
     "output_type": "stream",
     "text": [
      "The number of rows removed from YearBuilt: 139 and it is about 0.032% of the total number of parcels.\n",
      "The number of rows removed from EffectiveYearBuilt: 44 and it is about 0.01% of the total number of parcels.\n",
      "The number of rows removed from LandBaseYear: 5 and it is about 0.001% of the total number of parcels.\n",
      "The number of rows removed from TotalValue: 19 and it is about 0.004% of the total number of parcels.\n",
      "The number of rows removed from Bedrooms: 3 and it is about 0.001% of the total number of parcels.\n",
      "The number of rows removed from Bathrooms: 7 and it is about 0.002% of the total number of parcels.\n",
      "The number of rows removed from SQFTmain: 846 and it is about 0.192% of the total number of parcels.\n",
      "The number of rows removed from ShapeSTAre: 109 and it is about 0.025% of the total number of parcels.\n",
      "The number of rows removed from ShapeSTLen: 10 and it is about 0.002% of the total number of parcels.\n",
      "The number of rows removed = 1182 and it is about 0.268% of the total number of parcels.\n"
     ]
    }
   ],
   "source": [
    "df_LA_parcels_LAcity_filtered = pd.read_pickle(f\"{local_dir}/dataframe/df_LA_parcels_LAcity_filtered.pkl\", compression=\"gzip\")\n",
    "\n",
    "df_dummy = df_LA_parcels_LAcity_filtered.copy()\n",
    "len0 = len(df_dummy)\n",
    "\n",
    "for col in [\"YearBuilt\", \"EffectiveYearBuilt\"]:\n",
    "    # Remove rows if BuiltYear and EffectiveYearBuilt are less than 1850\n",
    "    len1 = len(df_dummy)\n",
    "    df_dummy = df_dummy[df_dummy[col] >= 1850]\n",
    "    len2 = len(df_dummy)\n",
    "    print(f\"The number of rows removed from {col}: {len1 - len2} and it is about {round((len1 - len2)/len1*100, 3)}% of the total number of parcels.\")\n",
    "\n",
    "for col in [\"LandBaseYear\"]:\n",
    "    # Remove the parcel with LandBaseYear = 1907\n",
    "    len1 = len(df_dummy)\n",
    "    df_dummy = df_dummy[df_dummy[col] >= 1908]\n",
    "    len2 = len(df_dummy)\n",
    "    print(f\"The number of rows removed from {col}: {len1 - len2} and it is about {round((len1 - len2)/len1*100, 3)}% of the total number of parcels.\")\n",
    "\n",
    "for col in [\"TotalValue\"]:\n",
    "    # Limit TotalValue to $50M\n",
    "    len1 = len(df_dummy)\n",
    "    df_dummy = df_dummy[df_dummy[col] <= 5e7]\n",
    "    len2 = len(df_dummy)\n",
    "    print(f\"The number of rows removed from {col}: {len1 - len2} and it is about {round((len1 - len2)/len1*100, 3)}% of the total number of parcels.\")\n",
    "\n",
    "for col in [\"Bedrooms\"]:\n",
    "    # Remove Bedrooms more than 19\n",
    "    len1 = len(df_dummy)\n",
    "    df_dummy = df_dummy[df_dummy[col] <= 19]\n",
    "    len2 = len(df_dummy)\n",
    "    print(f\"The number of rows removed from {col}: {len1 - len2} and it is about {round((len1 - len2)/len1*100, 3)}% of the total number of parcels.\")\n",
    "\n",
    "for col in [\"Bathrooms\"]:\n",
    "    # Remove Bathrooms more than 20\n",
    "    len1 = len(df_dummy)\n",
    "    df_dummy = df_dummy[df_dummy[col] <= 20]\n",
    "    len2 = len(df_dummy)\n",
    "    print(f\"The number of rows removed from {col}: {len1 - len2} and it is about {round((len1 - len2)/len1*100, 3)}% of the total number of parcels.\")\n",
    "\n",
    "for col in [\"SQFTmain\"]:\n",
    "    # Limit SQFTmain in between 500 to 40K\n",
    "    len1 = len(df_dummy)\n",
    "    df_dummy = df_dummy[(df_dummy[col] <= 40000) & (df_dummy[col] >= 500)]\n",
    "    len2 = len(df_dummy)\n",
    "    print(f\"The number of rows removed from {col}: {len1 - len2} and it is about {round((len1 - len2)/len1*100, 3)}% of the total number of parcels.\")\n",
    "\n",
    "for col in [\"ShapeSTAre\"]:\n",
    "    # Limit ShapeSTAre in between 1K to 600K\n",
    "    len1 = len(df_dummy)\n",
    "    df_dummy = df_dummy[(df_dummy[col] <= 600000) & (df_dummy[col] >= 1000)]\n",
    "    len2 = len(df_dummy)\n",
    "    print(f\"The number of rows removed from {col}: {len1 - len2} and it is about {round((len1 - len2)/len1*100, 3)}% of the total number of parcels.\")\n",
    "\n",
    "for col in [\"ShapeSTLen\"]:\n",
    "    # Limit ShapeSTLen to 4K\n",
    "    len1 = len(df_dummy)\n",
    "    df_dummy = df_dummy[df_dummy[col] <= 4000]\n",
    "    len2 = len(df_dummy)\n",
    "    print(f\"The number of rows removed from {col}: {len1 - len2} and it is about {round((len1 - len2)/len1*100, 3)}% of the total number of parcels.\")\n",
    "\n",
    "len_final = len(df_dummy)\n",
    "print(f\"The number of rows removed = {len0 - len_final} and it is about {round((len0 - len_final)/len0*100, 3)}% of the total number of parcels.\")\n",
    "\n",
    "df_LA_parcels_LAcity_cleaned_REV2 = df_dummy.copy()"
   ]
  }
 ],
 "metadata": {
  "kernelspec": {
   "display_name": "geopandas",
   "language": "python",
   "name": "geopandas"
  },
  "orig_nbformat": 4
 },
 "nbformat": 4,
 "nbformat_minor": 2
}
